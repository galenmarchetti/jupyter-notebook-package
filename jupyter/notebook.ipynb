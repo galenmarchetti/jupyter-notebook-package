{
 "cells": [
  {
   "cell_type": "code",
   "execution_count": null,
   "id": "7ad11bb4-c24e-46e4-bad4-c3dbbb90227d",
   "metadata": {},
   "outputs": [],
   "source": [
    "## CREATE DEMO DATA\n",
    "\n",
    "import pandas as pd\n",
    "columns = ['Student ID', 'Course ID', 'Marks']\n",
    "data = [(103, 201, 67), (103, 203, 67), (103, 204, 89)]\n",
    "df = pd.DataFrame(data, columns=columns)"
   ]
  },
  {
   "cell_type": "code",
   "execution_count": null,
   "id": "06e7d48b-72fc-4a05-8327-758141c8c50f",
   "metadata": {},
   "outputs": [],
   "source": [
    "## CREATE CONNECTION TO MONGODB AND WRITE DEMO DATA\n",
    "\n",
    "from pymongo import MongoClient\n",
    "client = MongoClient(mongodb_url)\n",
    "\n",
    "demo_db = client['demo_db']\n",
    "demo_collection = demo_db['demo_collection']\n",
    "\n",
    "df.reset_index(inplace=True)\n",
    "df_dict = df.to_dict(\"records\")\n",
    "\n",
    "demo_collection.insert_many(df_dict)"
   ]
  },
  {
   "cell_type": "code",
   "execution_count": null,
   "id": "c6e0bd72-4f41-4dee-8a46-af0aa56981ba",
   "metadata": {},
   "outputs": [],
   "source": [
    "## CREATE CONNECTION TO POSTGRES AND WRITE DEMO DATA\n",
    "\n",
    "from sqlalchemy import create_engine\n",
    "import psycopg2\n",
    "\n",
    "pg_engine = create_engine(postgres_url)\n",
    "df.to_sql('demo_table', pg_engine, if_exists='replace')"
   ]
  }
 ],
 "metadata": {
  "kernelspec": {
   "display_name": "Python 3 (ipykernel)",
   "language": "python",
   "name": "python3"
  },
  "language_info": {
   "codemirror_mode": {
    "name": "ipython",
    "version": 3
   },
   "file_extension": ".py",
   "mimetype": "text/x-python",
   "name": "python",
   "nbconvert_exporter": "python",
   "pygments_lexer": "ipython3",
   "version": "3.8.17"
  }
 },
 "nbformat": 4,
 "nbformat_minor": 5
}
