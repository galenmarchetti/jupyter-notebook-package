{
 "cells": [
  {
   "cell_type": "code",
   "execution_count": 1,
   "id": "06e7d48b-72fc-4a05-8327-758141c8c50f",
   "metadata": {},
   "outputs": [
    {
     "ename": "NameError",
     "evalue": "name 'postgres_url' is not defined",
     "output_type": "error",
     "traceback": [
      "\u001b[0;31m---------------------------------------------------------------------------\u001b[0m",
      "\u001b[0;31mNameError\u001b[0m                                 Traceback (most recent call last)",
      "Cell \u001b[0;32mIn[1], line 5\u001b[0m\n\u001b[1;32m      2\u001b[0m \u001b[38;5;28;01mimport\u001b[39;00m \u001b[38;5;21;01mpsycopg2\u001b[39;00m\n\u001b[1;32m      3\u001b[0m \u001b[38;5;28;01mimport\u001b[39;00m \u001b[38;5;21;01mpandas\u001b[39;00m \u001b[38;5;28;01mas\u001b[39;00m \u001b[38;5;21;01mpd\u001b[39;00m\n\u001b[0;32m----> 5\u001b[0m pg_engine \u001b[38;5;241m=\u001b[39m create_engine(\u001b[43mpostgres_url\u001b[49m)\n",
      "\u001b[0;31mNameError\u001b[0m: name 'postgres_url' is not defined"
     ]
    }
   ],
   "source": [
    "from sqlalchemy import create_engine\n",
    "import psycopg2\n",
    "import pandas as pd\n",
    "\n",
    "pg_engine = create_engine(postgres_url)"
   ]
  },
  {
   "cell_type": "code",
   "execution_count": 2,
   "id": "c6e0bd72-4f41-4dee-8a46-af0aa56981ba",
   "metadata": {},
   "outputs": [],
   "source": [
    "columns = ['Student ID', 'Course ID', 'Marks']\n",
    "data = [(103, 201, 67), (103, 203, 67), (103, 204, 89)]\n",
    "df = pd.DataFrame(data, columns=columns)\n",
    "\n",
    "df.to_sql('demo_table', pg_engine)"
   ]
  },
  {
   "cell_type": "code",
   "execution_count": null,
   "id": "7ad11bb4-c24e-46e4-bad4-c3dbbb90227d",
   "metadata": {},
   "outputs": [],
   "source": []
  }
 ],
 "metadata": {
  "kernelspec": {
   "display_name": "Python 3 (ipykernel)",
   "language": "python",
   "name": "python3"
  },
  "language_info": {
   "codemirror_mode": {
    "name": "ipython",
    "version": 3
   },
   "file_extension": ".py",
   "mimetype": "text/x-python",
   "name": "python",
   "nbconvert_exporter": "python",
   "pygments_lexer": "ipython3",
   "version": "3.8.17"
  }
 },
 "nbformat": 4,
 "nbformat_minor": 5
}
