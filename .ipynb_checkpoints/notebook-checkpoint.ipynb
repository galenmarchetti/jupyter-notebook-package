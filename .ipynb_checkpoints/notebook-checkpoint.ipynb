{
 "cells": [
  {
   "cell_type": "code",
   "execution_count": null,
   "id": "06e7d48b-72fc-4a05-8327-758141c8c50f",
   "metadata": {},
   "outputs": [],
   "source": [
    "from sqlalchemy import create_engine\n",
    "import psycopg2\n",
    "import pandas as pd\n",
    "\n",
    "pg_engine = create_engine(postgres_url)"
   ]
  },
  {
   "cell_type": "code",
   "execution_count": null,
   "id": "c6e0bd72-4f41-4dee-8a46-af0aa56981ba",
   "metadata": {},
   "outputs": [],
   "source": [
    "columns = ['Student ID', 'Course ID', 'Marks']\n",
    "data = [(103, 201, 67), (103, 203, 67), (103, 204, 89)]\n",
    "df = pd.DataFrame(data, columns=columns)\n",
    "\n",
    "df.to_sql('demo_table', pg_engine)"
   ]
  },
  {
   "cell_type": "code",
   "execution_count": null,
   "id": "7ad11bb4-c24e-46e4-bad4-c3dbbb90227d",
   "metadata": {},
   "outputs": [],
   "source": []
  }
 ],
 "metadata": {
  "kernelspec": {
   "display_name": "Python 3 (ipykernel)",
   "language": "python",
   "name": "python3"
  },
  "language_info": {
   "codemirror_mode": {
    "name": "ipython",
    "version": 3
   },
   "file_extension": ".py",
   "mimetype": "text/x-python",
   "name": "python",
   "nbconvert_exporter": "python",
   "pygments_lexer": "ipython3",
   "version": "3.8.17"
  }
 },
 "nbformat": 4,
 "nbformat_minor": 5
}
